{
 "cells": [
  {
   "cell_type": "code",
   "execution_count": 455,
   "metadata": {},
   "outputs": [
    {
     "data": {
      "text/html": [
       "<div>\n",
       "<style scoped>\n",
       "    .dataframe tbody tr th:only-of-type {\n",
       "        vertical-align: middle;\n",
       "    }\n",
       "\n",
       "    .dataframe tbody tr th {\n",
       "        vertical-align: top;\n",
       "    }\n",
       "\n",
       "    .dataframe thead th {\n",
       "        text-align: right;\n",
       "    }\n",
       "</style>\n",
       "<table border=\"1\" class=\"dataframe\">\n",
       "  <thead>\n",
       "    <tr style=\"text-align: right;\">\n",
       "      <th></th>\n",
       "      <th>city</th>\n",
       "      <th>driver_count</th>\n",
       "      <th>type</th>\n",
       "    </tr>\n",
       "  </thead>\n",
       "  <tbody>\n",
       "    <tr>\n",
       "      <th>0</th>\n",
       "      <td>Richardfort</td>\n",
       "      <td>38</td>\n",
       "      <td>Urban</td>\n",
       "    </tr>\n",
       "    <tr>\n",
       "      <th>1</th>\n",
       "      <td>Williamsstad</td>\n",
       "      <td>59</td>\n",
       "      <td>Urban</td>\n",
       "    </tr>\n",
       "    <tr>\n",
       "      <th>2</th>\n",
       "      <td>Port Angela</td>\n",
       "      <td>67</td>\n",
       "      <td>Urban</td>\n",
       "    </tr>\n",
       "    <tr>\n",
       "      <th>3</th>\n",
       "      <td>Rodneyfort</td>\n",
       "      <td>34</td>\n",
       "      <td>Urban</td>\n",
       "    </tr>\n",
       "    <tr>\n",
       "      <th>4</th>\n",
       "      <td>West Robert</td>\n",
       "      <td>39</td>\n",
       "      <td>Urban</td>\n",
       "    </tr>\n",
       "  </tbody>\n",
       "</table>\n",
       "</div>"
      ],
      "text/plain": [
       "           city  driver_count   type\n",
       "0   Richardfort            38  Urban\n",
       "1  Williamsstad            59  Urban\n",
       "2   Port Angela            67  Urban\n",
       "3    Rodneyfort            34  Urban\n",
       "4   West Robert            39  Urban"
      ]
     },
     "execution_count": 455,
     "metadata": {},
     "output_type": "execute_result"
    }
   ],
   "source": [
    "%matplotlib inline\n",
    "# Dependencies and Setup\n",
    "import matplotlib.pyplot as plt\n",
    "import pandas as pd\n",
    "import numpy as np\n",
    "\n",
    "# File to Load (Remember to change these)\n",
    "city_data_to_load = \"data/city_data.csv\"\n",
    "ride_data_to_load = \"data/ride_data.csv\"\n",
    "\n",
    "# Read the City and Ride Data\n",
    "city_df = pd.read_csv(city_data_to_load)\n",
    "ride_df = pd.read_csv(ride_data_to_load)\n",
    "\n",
    "city_df.head()\n",
    "# ride_df.head()"
   ]
  },
  {
   "cell_type": "code",
   "execution_count": 456,
   "metadata": {},
   "outputs": [
    {
     "data": {
      "text/html": [
       "<div>\n",
       "<style scoped>\n",
       "    .dataframe tbody tr th:only-of-type {\n",
       "        vertical-align: middle;\n",
       "    }\n",
       "\n",
       "    .dataframe tbody tr th {\n",
       "        vertical-align: top;\n",
       "    }\n",
       "\n",
       "    .dataframe thead th {\n",
       "        text-align: right;\n",
       "    }\n",
       "</style>\n",
       "<table border=\"1\" class=\"dataframe\">\n",
       "  <thead>\n",
       "    <tr style=\"text-align: right;\">\n",
       "      <th></th>\n",
       "      <th>city</th>\n",
       "      <th>date</th>\n",
       "      <th>fare</th>\n",
       "      <th>ride_id</th>\n",
       "      <th>driver_count</th>\n",
       "      <th>type</th>\n",
       "    </tr>\n",
       "  </thead>\n",
       "  <tbody>\n",
       "    <tr>\n",
       "      <th>0</th>\n",
       "      <td>Lake Jonathanshire</td>\n",
       "      <td>2018-01-14 10:14:22</td>\n",
       "      <td>13.83</td>\n",
       "      <td>5739410935873</td>\n",
       "      <td>5</td>\n",
       "      <td>Urban</td>\n",
       "    </tr>\n",
       "    <tr>\n",
       "      <th>1</th>\n",
       "      <td>South Michelleport</td>\n",
       "      <td>2018-03-04 18:24:09</td>\n",
       "      <td>30.24</td>\n",
       "      <td>2343912425577</td>\n",
       "      <td>72</td>\n",
       "      <td>Urban</td>\n",
       "    </tr>\n",
       "    <tr>\n",
       "      <th>2</th>\n",
       "      <td>Port Samanthamouth</td>\n",
       "      <td>2018-02-24 04:29:00</td>\n",
       "      <td>33.44</td>\n",
       "      <td>2005065760003</td>\n",
       "      <td>57</td>\n",
       "      <td>Urban</td>\n",
       "    </tr>\n",
       "    <tr>\n",
       "      <th>3</th>\n",
       "      <td>Rodneyfort</td>\n",
       "      <td>2018-02-10 23:22:03</td>\n",
       "      <td>23.44</td>\n",
       "      <td>5149245426178</td>\n",
       "      <td>34</td>\n",
       "      <td>Urban</td>\n",
       "    </tr>\n",
       "    <tr>\n",
       "      <th>4</th>\n",
       "      <td>South Jack</td>\n",
       "      <td>2018-03-06 04:28:35</td>\n",
       "      <td>34.58</td>\n",
       "      <td>3908451377344</td>\n",
       "      <td>46</td>\n",
       "      <td>Urban</td>\n",
       "    </tr>\n",
       "  </tbody>\n",
       "</table>\n",
       "</div>"
      ],
      "text/plain": [
       "                 city                 date   fare        ride_id  \\\n",
       "0  Lake Jonathanshire  2018-01-14 10:14:22  13.83  5739410935873   \n",
       "1  South Michelleport  2018-03-04 18:24:09  30.24  2343912425577   \n",
       "2  Port Samanthamouth  2018-02-24 04:29:00  33.44  2005065760003   \n",
       "3          Rodneyfort  2018-02-10 23:22:03  23.44  5149245426178   \n",
       "4          South Jack  2018-03-06 04:28:35  34.58  3908451377344   \n",
       "\n",
       "   driver_count   type  \n",
       "0             5  Urban  \n",
       "1            72  Urban  \n",
       "2            57  Urban  \n",
       "3            34  Urban  \n",
       "4            46  Urban  "
      ]
     },
     "execution_count": 456,
     "metadata": {},
     "output_type": "execute_result"
    }
   ],
   "source": [
    "# Combine the data into a single dataset\n",
    "combined_data = pd.merge(ride_df, city_df, how=\"left\", on=[\"city\"])\n",
    "\n",
    "# Display the data table for preview\n",
    "combined_data.head()"
   ]
  },
  {
   "cell_type": "markdown",
   "metadata": {},
   "source": [
    "## Bubble Plot of Ride Sharing Data"
   ]
  },
  {
   "cell_type": "code",
   "execution_count": 457,
   "metadata": {},
   "outputs": [
    {
     "data": {
      "text/plain": [
       "array(['Urban', 'Suburban', 'Rural'], dtype=object)"
      ]
     },
     "execution_count": 457,
     "metadata": {},
     "output_type": "execute_result"
    }
   ],
   "source": [
    "groupby_type = combined_data.groupby([\"type\"])\n",
    "types = combined_data[\"type\"].unique()\n",
    "types"
   ]
  },
  {
   "cell_type": "code",
   "execution_count": 458,
   "metadata": {},
   "outputs": [],
   "source": [
    "type_colors = {\"Rural\": \"orange\", \"Urban\": \"coral\", \"Suburban\": \"skyblue\"}"
   ]
  },
  {
   "cell_type": "code",
   "execution_count": 459,
   "metadata": {},
   "outputs": [
    {
     "data": {
      "text/plain": [
       "type      city                \n",
       "Rural     Bradshawfurt              70\n",
       "          Garzaport                 21\n",
       "          Harringtonfort            24\n",
       "          Jessicaport                6\n",
       "          Lake Jamie                24\n",
       "          Lake Latoyabury           22\n",
       "          Michaelberg               72\n",
       "          New Ryantown              12\n",
       "          Newtonview                 4\n",
       "          North Holly               72\n",
       "          North Jaime                8\n",
       "          Penaborough               30\n",
       "          Randallchester            45\n",
       "          South Jennifer            49\n",
       "          South Marychester          8\n",
       "          South Saramouth           28\n",
       "          Taylorhaven                6\n",
       "          West Heather              36\n",
       "Suburban  Barronchester            176\n",
       "          Bethanyland              396\n",
       "          Brandonfort              190\n",
       "          Colemanland              506\n",
       "          Davidfurt                391\n",
       "          East Aaronbury            63\n",
       "          East Danielview          374\n",
       "          East Kentstad            260\n",
       "          East Marymouth           135\n",
       "          Grayville                 30\n",
       "          Josephside               675\n",
       "          Lake Ann                  36\n",
       "                                  ... \n",
       "Urban     Port Johnbury             66\n",
       "          Port Samanthamouth      1425\n",
       "          Raymondhaven             275\n",
       "          Reynoldsfurt            1273\n",
       "          Richardfort             1064\n",
       "          Roberthaven             1128\n",
       "          Robertport               240\n",
       "          Rodneyfort               782\n",
       "          Rogerston                550\n",
       "          Royland                 1920\n",
       "          Simpsonburgh             504\n",
       "          South Evanton            341\n",
       "          South Jack               874\n",
       "          South Karenland          152\n",
       "          South Latoya             190\n",
       "          South Michelleport      2232\n",
       "          South Phillip           1178\n",
       "          Valentineton             990\n",
       "          West Angela             1872\n",
       "          West Anthony            2100\n",
       "          West Christopherberg     832\n",
       "          West Ericstad            450\n",
       "          West Gabriel            1311\n",
       "          West Heidi               784\n",
       "          West Josephberg         1170\n",
       "          West Patrickchester      400\n",
       "          West Robert             1209\n",
       "          West Samuelburgh        1825\n",
       "          Williamsstad            1357\n",
       "          Williamsview             920\n",
       "Name: driver_count, Length: 120, dtype: int64"
      ]
     },
     "execution_count": 459,
     "metadata": {},
     "output_type": "execute_result"
    }
   ],
   "source": [
    "# Need to group by city in order to get data\n",
    "groupby_type_city = combined_data.groupby([\"type\", \"city\"])\n",
    "groupby_type_city[\"driver_count\"].sum()"
   ]
  },
  {
   "cell_type": "code",
   "execution_count": 460,
   "metadata": {},
   "outputs": [
    {
     "data": {
      "text/html": [
       "<div>\n",
       "<style scoped>\n",
       "    .dataframe tbody tr th:only-of-type {\n",
       "        vertical-align: middle;\n",
       "    }\n",
       "\n",
       "    .dataframe tbody tr th {\n",
       "        vertical-align: top;\n",
       "    }\n",
       "\n",
       "    .dataframe thead th {\n",
       "        text-align: right;\n",
       "    }\n",
       "</style>\n",
       "<table border=\"1\" class=\"dataframe\">\n",
       "  <thead>\n",
       "    <tr style=\"text-align: right;\">\n",
       "      <th></th>\n",
       "      <th>city</th>\n",
       "      <th>date</th>\n",
       "      <th>fare</th>\n",
       "      <th>ride_id</th>\n",
       "      <th>driver_count</th>\n",
       "    </tr>\n",
       "    <tr>\n",
       "      <th>type</th>\n",
       "      <th></th>\n",
       "      <th></th>\n",
       "      <th></th>\n",
       "      <th></th>\n",
       "      <th></th>\n",
       "    </tr>\n",
       "  </thead>\n",
       "  <tbody>\n",
       "    <tr>\n",
       "      <th>Suburban</th>\n",
       "      <td>Barronchester</td>\n",
       "      <td>2018-01-27 03:08:01</td>\n",
       "      <td>27.79</td>\n",
       "      <td>6653622887913</td>\n",
       "      <td>11</td>\n",
       "    </tr>\n",
       "    <tr>\n",
       "      <th>Suburban</th>\n",
       "      <td>East Kentstad</td>\n",
       "      <td>2018-04-07 19:44:19</td>\n",
       "      <td>18.75</td>\n",
       "      <td>6575961095852</td>\n",
       "      <td>20</td>\n",
       "    </tr>\n",
       "    <tr>\n",
       "      <th>Suburban</th>\n",
       "      <td>Lake Omar</td>\n",
       "      <td>2018-01-17 21:33:35</td>\n",
       "      <td>21.71</td>\n",
       "      <td>966911700371</td>\n",
       "      <td>22</td>\n",
       "    </tr>\n",
       "    <tr>\n",
       "      <th>Suburban</th>\n",
       "      <td>Myersshire</td>\n",
       "      <td>2018-02-27 17:38:39</td>\n",
       "      <td>17.10</td>\n",
       "      <td>5706770909868</td>\n",
       "      <td>19</td>\n",
       "    </tr>\n",
       "    <tr>\n",
       "      <th>Suburban</th>\n",
       "      <td>West Hannah</td>\n",
       "      <td>2018-04-19 01:06:59</td>\n",
       "      <td>37.78</td>\n",
       "      <td>2273047151891</td>\n",
       "      <td>12</td>\n",
       "    </tr>\n",
       "  </tbody>\n",
       "</table>\n",
       "</div>"
      ],
      "text/plain": [
       "                   city                 date   fare        ride_id  \\\n",
       "type                                                                 \n",
       "Suburban  Barronchester  2018-01-27 03:08:01  27.79  6653622887913   \n",
       "Suburban  East Kentstad  2018-04-07 19:44:19  18.75  6575961095852   \n",
       "Suburban      Lake Omar  2018-01-17 21:33:35  21.71   966911700371   \n",
       "Suburban     Myersshire  2018-02-27 17:38:39  17.10  5706770909868   \n",
       "Suburban    West Hannah  2018-04-19 01:06:59  37.78  2273047151891   \n",
       "\n",
       "          driver_count  \n",
       "type                    \n",
       "Suburban            11  \n",
       "Suburban            20  \n",
       "Suburban            22  \n",
       "Suburban            19  \n",
       "Suburban            12  "
      ]
     },
     "execution_count": 460,
     "metadata": {},
     "output_type": "execute_result"
    }
   ],
   "source": [
    "# Isolate Rural dataframe\n",
    "rural_cities = combined_data.loc[combined_data[\"type\"] == \"Rural\", :].set_index([\"type\"])\n",
    "rural_cities.head()\n",
    "# Isolate Urban dataframe\n",
    "urban_cities = combined_data.loc[combined_data[\"type\"] == \"Urban\", :].set_index([\"type\"])\n",
    "urban_cities.head()\n",
    "# Isolate Suburban dataframe\n",
    "suburban_cities = combined_data.loc[combined_data[\"type\"] == \"Suburban\", :].set_index([\"type\"])\n",
    "suburban_cities.head()"
   ]
  },
  {
   "cell_type": "code",
   "execution_count": 461,
   "metadata": {},
   "outputs": [
    {
     "data": {
      "text/html": [
       "<div>\n",
       "<style scoped>\n",
       "    .dataframe tbody tr th:only-of-type {\n",
       "        vertical-align: middle;\n",
       "    }\n",
       "\n",
       "    .dataframe tbody tr th {\n",
       "        vertical-align: top;\n",
       "    }\n",
       "\n",
       "    .dataframe thead th {\n",
       "        text-align: right;\n",
       "    }\n",
       "</style>\n",
       "<table border=\"1\" class=\"dataframe\">\n",
       "  <thead>\n",
       "    <tr style=\"text-align: right;\">\n",
       "      <th></th>\n",
       "      <th>city</th>\n",
       "      <th>date</th>\n",
       "      <th>fare</th>\n",
       "      <th>ride_id</th>\n",
       "      <th>driver_count</th>\n",
       "    </tr>\n",
       "    <tr>\n",
       "      <th>type</th>\n",
       "      <th></th>\n",
       "      <th></th>\n",
       "      <th></th>\n",
       "      <th></th>\n",
       "      <th></th>\n",
       "    </tr>\n",
       "  </thead>\n",
       "  <tbody>\n",
       "    <tr>\n",
       "      <th>Suburban</th>\n",
       "      <td>Barronchester</td>\n",
       "      <td>2018-01-27 03:08:01</td>\n",
       "      <td>27.79</td>\n",
       "      <td>6653622887913</td>\n",
       "      <td>11</td>\n",
       "    </tr>\n",
       "    <tr>\n",
       "      <th>Suburban</th>\n",
       "      <td>East Kentstad</td>\n",
       "      <td>2018-04-07 19:44:19</td>\n",
       "      <td>18.75</td>\n",
       "      <td>6575961095852</td>\n",
       "      <td>20</td>\n",
       "    </tr>\n",
       "    <tr>\n",
       "      <th>Suburban</th>\n",
       "      <td>Lake Omar</td>\n",
       "      <td>2018-01-17 21:33:35</td>\n",
       "      <td>21.71</td>\n",
       "      <td>966911700371</td>\n",
       "      <td>22</td>\n",
       "    </tr>\n",
       "    <tr>\n",
       "      <th>Suburban</th>\n",
       "      <td>Myersshire</td>\n",
       "      <td>2018-02-27 17:38:39</td>\n",
       "      <td>17.10</td>\n",
       "      <td>5706770909868</td>\n",
       "      <td>19</td>\n",
       "    </tr>\n",
       "    <tr>\n",
       "      <th>Suburban</th>\n",
       "      <td>West Hannah</td>\n",
       "      <td>2018-04-19 01:06:59</td>\n",
       "      <td>37.78</td>\n",
       "      <td>2273047151891</td>\n",
       "      <td>12</td>\n",
       "    </tr>\n",
       "    <tr>\n",
       "      <th>Suburban</th>\n",
       "      <td>East Marymouth</td>\n",
       "      <td>2018-03-29 08:36:20</td>\n",
       "      <td>37.60</td>\n",
       "      <td>6370863861570</td>\n",
       "      <td>5</td>\n",
       "    </tr>\n",
       "    <tr>\n",
       "      <th>Suburban</th>\n",
       "      <td>New Raymond</td>\n",
       "      <td>2018-02-25 21:40:18</td>\n",
       "      <td>20.44</td>\n",
       "      <td>5984505117874</td>\n",
       "      <td>17</td>\n",
       "    </tr>\n",
       "    <tr>\n",
       "      <th>Suburban</th>\n",
       "      <td>Lake Robertside</td>\n",
       "      <td>2018-01-11 20:17:36</td>\n",
       "      <td>46.51</td>\n",
       "      <td>6574333011308</td>\n",
       "      <td>4</td>\n",
       "    </tr>\n",
       "    <tr>\n",
       "      <th>Suburban</th>\n",
       "      <td>Josephside</td>\n",
       "      <td>2018-03-30 09:45:11</td>\n",
       "      <td>44.74</td>\n",
       "      <td>5592692102803</td>\n",
       "      <td>25</td>\n",
       "    </tr>\n",
       "    <tr>\n",
       "      <th>Suburban</th>\n",
       "      <td>Brandonfort</td>\n",
       "      <td>2018-01-14 12:35:27</td>\n",
       "      <td>28.02</td>\n",
       "      <td>8100258078935</td>\n",
       "      <td>10</td>\n",
       "    </tr>\n",
       "    <tr>\n",
       "      <th>Suburban</th>\n",
       "      <td>Lewisland</td>\n",
       "      <td>2018-02-14 17:38:17</td>\n",
       "      <td>42.31</td>\n",
       "      <td>580385794188</td>\n",
       "      <td>4</td>\n",
       "    </tr>\n",
       "    <tr>\n",
       "      <th>Suburban</th>\n",
       "      <td>North Richardhaven</td>\n",
       "      <td>2018-02-18 10:21:39</td>\n",
       "      <td>41.54</td>\n",
       "      <td>4267383307027</td>\n",
       "      <td>1</td>\n",
       "    </tr>\n",
       "    <tr>\n",
       "      <th>Suburban</th>\n",
       "      <td>New Olivia</td>\n",
       "      <td>2018-03-29 02:52:48</td>\n",
       "      <td>44.12</td>\n",
       "      <td>7724469578438</td>\n",
       "      <td>20</td>\n",
       "    </tr>\n",
       "    <tr>\n",
       "      <th>Suburban</th>\n",
       "      <td>New Shannonberg</td>\n",
       "      <td>2018-03-19 08:13:37</td>\n",
       "      <td>25.46</td>\n",
       "      <td>374752841670</td>\n",
       "      <td>20</td>\n",
       "    </tr>\n",
       "    <tr>\n",
       "      <th>Suburban</th>\n",
       "      <td>Nicolechester</td>\n",
       "      <td>2018-02-09 12:26:03</td>\n",
       "      <td>40.83</td>\n",
       "      <td>85473064902</td>\n",
       "      <td>19</td>\n",
       "    </tr>\n",
       "    <tr>\n",
       "      <th>Suburban</th>\n",
       "      <td>Victoriaport</td>\n",
       "      <td>2018-04-21 15:21:47</td>\n",
       "      <td>12.13</td>\n",
       "      <td>3313120309203</td>\n",
       "      <td>16</td>\n",
       "    </tr>\n",
       "    <tr>\n",
       "      <th>Suburban</th>\n",
       "      <td>South Teresa</td>\n",
       "      <td>2018-01-29 12:51:02</td>\n",
       "      <td>38.47</td>\n",
       "      <td>5746182119035</td>\n",
       "      <td>21</td>\n",
       "    </tr>\n",
       "    <tr>\n",
       "      <th>Suburban</th>\n",
       "      <td>East Aaronbury</td>\n",
       "      <td>2018-03-19 10:43:53</td>\n",
       "      <td>20.04</td>\n",
       "      <td>4117474421029</td>\n",
       "      <td>7</td>\n",
       "    </tr>\n",
       "    <tr>\n",
       "      <th>Suburban</th>\n",
       "      <td>Bethanyland</td>\n",
       "      <td>2018-04-01 22:04:35</td>\n",
       "      <td>38.71</td>\n",
       "      <td>8221076873967</td>\n",
       "      <td>22</td>\n",
       "    </tr>\n",
       "    <tr>\n",
       "      <th>Suburban</th>\n",
       "      <td>Lake Scott</td>\n",
       "      <td>2018-01-10 11:08:48</td>\n",
       "      <td>37.96</td>\n",
       "      <td>8130669690525</td>\n",
       "      <td>23</td>\n",
       "    </tr>\n",
       "    <tr>\n",
       "      <th>Suburban</th>\n",
       "      <td>North Jeffrey</td>\n",
       "      <td>2018-02-04 22:35:11</td>\n",
       "      <td>29.87</td>\n",
       "      <td>7909567053548</td>\n",
       "      <td>11</td>\n",
       "    </tr>\n",
       "    <tr>\n",
       "      <th>Suburban</th>\n",
       "      <td>Rodriguezview</td>\n",
       "      <td>2018-03-27 19:44:37</td>\n",
       "      <td>49.65</td>\n",
       "      <td>8748957571328</td>\n",
       "      <td>20</td>\n",
       "    </tr>\n",
       "    <tr>\n",
       "      <th>Suburban</th>\n",
       "      <td>Sotoville</td>\n",
       "      <td>2018-03-29 22:38:04</td>\n",
       "      <td>34.97</td>\n",
       "      <td>7313956062903</td>\n",
       "      <td>10</td>\n",
       "    </tr>\n",
       "    <tr>\n",
       "      <th>Suburban</th>\n",
       "      <td>South Brenda</td>\n",
       "      <td>2018-04-28 04:21:34</td>\n",
       "      <td>27.86</td>\n",
       "      <td>5857212189710</td>\n",
       "      <td>1</td>\n",
       "    </tr>\n",
       "    <tr>\n",
       "      <th>Suburban</th>\n",
       "      <td>Port Shane</td>\n",
       "      <td>2018-04-09 15:34:40</td>\n",
       "      <td>27.66</td>\n",
       "      <td>4022340141966</td>\n",
       "      <td>7</td>\n",
       "    </tr>\n",
       "    <tr>\n",
       "      <th>Suburban</th>\n",
       "      <td>North Timothy</td>\n",
       "      <td>2018-04-06 10:06:34</td>\n",
       "      <td>38.39</td>\n",
       "      <td>4781274767887</td>\n",
       "      <td>7</td>\n",
       "    </tr>\n",
       "    <tr>\n",
       "      <th>Suburban</th>\n",
       "      <td>Veronicaberg</td>\n",
       "      <td>2018-01-19 23:24:08</td>\n",
       "      <td>19.28</td>\n",
       "      <td>2351082274727</td>\n",
       "      <td>20</td>\n",
       "    </tr>\n",
       "    <tr>\n",
       "      <th>Suburban</th>\n",
       "      <td>Williamsonville</td>\n",
       "      <td>2018-01-09 23:59:36</td>\n",
       "      <td>48.73</td>\n",
       "      <td>6507706939008</td>\n",
       "      <td>2</td>\n",
       "    </tr>\n",
       "    <tr>\n",
       "      <th>Suburban</th>\n",
       "      <td>Lewishaven</td>\n",
       "      <td>2018-04-19 01:08:58</td>\n",
       "      <td>21.92</td>\n",
       "      <td>7108986085790</td>\n",
       "      <td>23</td>\n",
       "    </tr>\n",
       "    <tr>\n",
       "      <th>Suburban</th>\n",
       "      <td>Lake Ann</td>\n",
       "      <td>2018-02-14 17:13:40</td>\n",
       "      <td>42.13</td>\n",
       "      <td>6192401377301</td>\n",
       "      <td>3</td>\n",
       "    </tr>\n",
       "    <tr>\n",
       "      <th>Suburban</th>\n",
       "      <td>Grayville</td>\n",
       "      <td>2018-04-06 03:38:40</td>\n",
       "      <td>18.11</td>\n",
       "      <td>6203774514474</td>\n",
       "      <td>2</td>\n",
       "    </tr>\n",
       "    <tr>\n",
       "      <th>Suburban</th>\n",
       "      <td>Colemanland</td>\n",
       "      <td>2018-04-20 02:52:45</td>\n",
       "      <td>20.83</td>\n",
       "      <td>2981565641427</td>\n",
       "      <td>23</td>\n",
       "    </tr>\n",
       "    <tr>\n",
       "      <th>Suburban</th>\n",
       "      <td>West Kimmouth</td>\n",
       "      <td>2018-01-04 10:24:04</td>\n",
       "      <td>20.69</td>\n",
       "      <td>1687206700447</td>\n",
       "      <td>4</td>\n",
       "    </tr>\n",
       "    <tr>\n",
       "      <th>Suburban</th>\n",
       "      <td>Mezachester</td>\n",
       "      <td>2018-03-25 12:57:21</td>\n",
       "      <td>21.89</td>\n",
       "      <td>2294831365065</td>\n",
       "      <td>14</td>\n",
       "    </tr>\n",
       "    <tr>\n",
       "      <th>Suburban</th>\n",
       "      <td>Davidfurt</td>\n",
       "      <td>2018-01-05 13:42:28</td>\n",
       "      <td>31.48</td>\n",
       "      <td>1953915881204</td>\n",
       "      <td>23</td>\n",
       "    </tr>\n",
       "    <tr>\n",
       "      <th>Suburban</th>\n",
       "      <td>East Danielview</td>\n",
       "      <td>2018-02-25 03:54:05</td>\n",
       "      <td>26.33</td>\n",
       "      <td>513607352842</td>\n",
       "      <td>22</td>\n",
       "    </tr>\n",
       "  </tbody>\n",
       "</table>\n",
       "</div>"
      ],
      "text/plain": [
       "                        city                 date   fare        ride_id  \\\n",
       "type                                                                      \n",
       "Suburban       Barronchester  2018-01-27 03:08:01  27.79  6653622887913   \n",
       "Suburban       East Kentstad  2018-04-07 19:44:19  18.75  6575961095852   \n",
       "Suburban           Lake Omar  2018-01-17 21:33:35  21.71   966911700371   \n",
       "Suburban          Myersshire  2018-02-27 17:38:39  17.10  5706770909868   \n",
       "Suburban         West Hannah  2018-04-19 01:06:59  37.78  2273047151891   \n",
       "Suburban      East Marymouth  2018-03-29 08:36:20  37.60  6370863861570   \n",
       "Suburban         New Raymond  2018-02-25 21:40:18  20.44  5984505117874   \n",
       "Suburban     Lake Robertside  2018-01-11 20:17:36  46.51  6574333011308   \n",
       "Suburban          Josephside  2018-03-30 09:45:11  44.74  5592692102803   \n",
       "Suburban         Brandonfort  2018-01-14 12:35:27  28.02  8100258078935   \n",
       "Suburban           Lewisland  2018-02-14 17:38:17  42.31   580385794188   \n",
       "Suburban  North Richardhaven  2018-02-18 10:21:39  41.54  4267383307027   \n",
       "Suburban          New Olivia  2018-03-29 02:52:48  44.12  7724469578438   \n",
       "Suburban     New Shannonberg  2018-03-19 08:13:37  25.46   374752841670   \n",
       "Suburban       Nicolechester  2018-02-09 12:26:03  40.83    85473064902   \n",
       "Suburban        Victoriaport  2018-04-21 15:21:47  12.13  3313120309203   \n",
       "Suburban        South Teresa  2018-01-29 12:51:02  38.47  5746182119035   \n",
       "Suburban      East Aaronbury  2018-03-19 10:43:53  20.04  4117474421029   \n",
       "Suburban         Bethanyland  2018-04-01 22:04:35  38.71  8221076873967   \n",
       "Suburban          Lake Scott  2018-01-10 11:08:48  37.96  8130669690525   \n",
       "Suburban       North Jeffrey  2018-02-04 22:35:11  29.87  7909567053548   \n",
       "Suburban       Rodriguezview  2018-03-27 19:44:37  49.65  8748957571328   \n",
       "Suburban           Sotoville  2018-03-29 22:38:04  34.97  7313956062903   \n",
       "Suburban        South Brenda  2018-04-28 04:21:34  27.86  5857212189710   \n",
       "Suburban          Port Shane  2018-04-09 15:34:40  27.66  4022340141966   \n",
       "Suburban       North Timothy  2018-04-06 10:06:34  38.39  4781274767887   \n",
       "Suburban        Veronicaberg  2018-01-19 23:24:08  19.28  2351082274727   \n",
       "Suburban     Williamsonville  2018-01-09 23:59:36  48.73  6507706939008   \n",
       "Suburban          Lewishaven  2018-04-19 01:08:58  21.92  7108986085790   \n",
       "Suburban            Lake Ann  2018-02-14 17:13:40  42.13  6192401377301   \n",
       "Suburban           Grayville  2018-04-06 03:38:40  18.11  6203774514474   \n",
       "Suburban         Colemanland  2018-04-20 02:52:45  20.83  2981565641427   \n",
       "Suburban       West Kimmouth  2018-01-04 10:24:04  20.69  1687206700447   \n",
       "Suburban         Mezachester  2018-03-25 12:57:21  21.89  2294831365065   \n",
       "Suburban           Davidfurt  2018-01-05 13:42:28  31.48  1953915881204   \n",
       "Suburban     East Danielview  2018-02-25 03:54:05  26.33   513607352842   \n",
       "\n",
       "          driver_count  \n",
       "type                    \n",
       "Suburban            11  \n",
       "Suburban            20  \n",
       "Suburban            22  \n",
       "Suburban            19  \n",
       "Suburban            12  \n",
       "Suburban             5  \n",
       "Suburban            17  \n",
       "Suburban             4  \n",
       "Suburban            25  \n",
       "Suburban            10  \n",
       "Suburban             4  \n",
       "Suburban             1  \n",
       "Suburban            20  \n",
       "Suburban            20  \n",
       "Suburban            19  \n",
       "Suburban            16  \n",
       "Suburban            21  \n",
       "Suburban             7  \n",
       "Suburban            22  \n",
       "Suburban            23  \n",
       "Suburban            11  \n",
       "Suburban            20  \n",
       "Suburban            10  \n",
       "Suburban             1  \n",
       "Suburban             7  \n",
       "Suburban             7  \n",
       "Suburban            20  \n",
       "Suburban             2  \n",
       "Suburban            23  \n",
       "Suburban             3  \n",
       "Suburban             2  \n",
       "Suburban            23  \n",
       "Suburban             4  \n",
       "Suburban            14  \n",
       "Suburban            23  \n",
       "Suburban            22  "
      ]
     },
     "execution_count": 461,
     "metadata": {},
     "output_type": "execute_result"
    }
   ],
   "source": [
    "# Groupby Rural dataframe by city\n",
    "groupby_rural_city = rural_cities.groupby([\"city\"])\n",
    "groupby_rural_city.head()\n",
    "# # Groupby Urban dataframe by city\n",
    "groupby_urban_city = urban_cities.groupby([\"city\"])\n",
    "groupby_urban_city.head()\n",
    "# Groupby Suburban dataframe by city\n",
    "groupby_suburban_city = suburban_cities.groupby([\"city\"])\n",
    "groupby_suburban_city.head(1)"
   ]
  },
  {
   "cell_type": "code",
   "execution_count": 462,
   "metadata": {
    "scrolled": true
   },
   "outputs": [
    {
     "data": {
      "text/plain": [
       "city\n",
       "Bradshawfurt         7\n",
       "Garzaport            7\n",
       "Harringtonfort       4\n",
       "Jessicaport          1\n",
       "Lake Jamie           4\n",
       "Lake Latoyabury      2\n",
       "Michaelberg          6\n",
       "New Ryantown         2\n",
       "Newtonview           1\n",
       "North Holly          8\n",
       "North Jaime          1\n",
       "Penaborough          6\n",
       "Randallchester       9\n",
       "South Jennifer       7\n",
       "South Marychester    1\n",
       "South Saramouth      7\n",
       "Taylorhaven          1\n",
       "West Heather         4\n",
       "Name: driver_count, dtype: int64"
      ]
     },
     "execution_count": 462,
     "metadata": {},
     "output_type": "execute_result"
    }
   ],
   "source": [
    "# Obtain the x and y coordinates for Rural cities\n",
    "rural_ride_per_city = groupby_rural_city[\"ride_id\"].count() # X value\n",
    "rural_ride_per_city.head() \n",
    "\n",
    "rural_avgfare_per_city = groupby_rural_city[\"fare\"].mean() # Y value\n",
    "rural_avgfare_per_city\n",
    "\n",
    "rural_drivers_by_city = groupby_rural_city[\"driver_count\"].median()\n",
    "rural_drivers_by_city\n"
   ]
  },
  {
   "cell_type": "code",
   "execution_count": 463,
   "metadata": {},
   "outputs": [
    {
     "data": {
      "text/plain": [
       "city\n",
       "Amandaburgh        12\n",
       "Barajasview        26\n",
       "Carriemouth        52\n",
       "Christopherfurt    41\n",
       "Deanville          49\n",
       "Name: driver_count, dtype: int64"
      ]
     },
     "execution_count": 463,
     "metadata": {},
     "output_type": "execute_result"
    }
   ],
   "source": [
    "# Obtain the x and y coordinates for Urban cities\n",
    "urban_ride_per_city = groupby_urban_city[\"ride_id\"].count() # X value\n",
    "urban_ride_per_city.head() \n",
    "\n",
    "urban_avgfare_per_city = groupby_urban_city[\"fare\"].mean() # Y value\n",
    "urban_avgfare_per_city\n",
    "\n",
    "urban_drivers_by_city = groupby_urban_city[\"driver_count\"].median()\n",
    "urban_drivers_by_city.head()\n"
   ]
  },
  {
   "cell_type": "code",
   "execution_count": 464,
   "metadata": {},
   "outputs": [
    {
     "data": {
      "text/plain": [
       "city\n",
       "Barronchester    11\n",
       "Bethanyland      22\n",
       "Brandonfort      10\n",
       "Colemanland      23\n",
       "Davidfurt        23\n",
       "Name: driver_count, dtype: int64"
      ]
     },
     "execution_count": 464,
     "metadata": {},
     "output_type": "execute_result"
    }
   ],
   "source": [
    "# Obtain the x and y coordinates for Suburban cities\n",
    "suburban_ride_per_city = groupby_suburban_city[\"ride_id\"].count() # X value\n",
    "suburban_ride_per_city.head() \n",
    "\n",
    "suburban_avgfare_per_city = groupby_suburban_city[\"fare\"].mean() # Y value\n",
    "suburban_avgfare_per_city\n",
    "\n",
    "suburban_drivers_by_city = groupby_suburban_city[\"driver_count\"].median()\n",
    "suburban_drivers_by_city.head()"
   ]
  },
  {
   "cell_type": "code",
   "execution_count": 465,
   "metadata": {
    "scrolled": true
   },
   "outputs": [
    {
     "data": {
      "text/plain": [
       "type   city          \n",
       "Rural  Bradshawfurt      10\n",
       "       Garzaport          3\n",
       "       Harringtonfort     6\n",
       "       Jessicaport        6\n",
       "       Lake Jamie         6\n",
       "Name: ride_id, dtype: int64"
      ]
     },
     "execution_count": 465,
     "metadata": {},
     "output_type": "execute_result"
    }
   ],
   "source": [
    "# Obtain the x and y coordinates for each of the three city types\n",
    "ride_per_city = groupby_type_city[\"ride_id\"].count()\n",
    "ride_per_city.head()"
   ]
  },
  {
   "cell_type": "code",
   "execution_count": 466,
   "metadata": {},
   "outputs": [
    {
     "data": {
      "text/plain": [
       "type   city          \n",
       "Rural  Bradshawfurt      40.064000\n",
       "       Garzaport         24.123333\n",
       "       Harringtonfort    33.470000\n",
       "       Jessicaport       36.013333\n",
       "       Lake Jamie        34.358333\n",
       "Name: fare, dtype: float64"
      ]
     },
     "execution_count": 466,
     "metadata": {},
     "output_type": "execute_result"
    }
   ],
   "source": [
    "avgfare_per_city = groupby_type_city[\"fare\"].mean()\n",
    "avgfare_per_city.head()"
   ]
  },
  {
   "cell_type": "code",
   "execution_count": 467,
   "metadata": {},
   "outputs": [
    {
     "data": {
      "text/plain": [
       "type   city          \n",
       "Rural  Bradshawfurt      7\n",
       "       Garzaport         7\n",
       "       Harringtonfort    4\n",
       "       Jessicaport       1\n",
       "       Lake Jamie        4\n",
       "Name: driver_count, dtype: int64"
      ]
     },
     "execution_count": 467,
     "metadata": {},
     "output_type": "execute_result"
    }
   ],
   "source": [
    "drivers_by_city = groupby_type_city[\"driver_count\"].median()\n",
    "drivers_by_city.head()"
   ]
  },
  {
   "cell_type": "code",
   "execution_count": 468,
   "metadata": {},
   "outputs": [
    {
     "data": {
      "image/png": "[encoded data removed]",
      "text/plain": [
       "<Figure size 432x288 with 1 Axes>"
      ]
     },
     "metadata": {
      "needs_background": "light"
     },
     "output_type": "display_data"
    }
   ],
   "source": [
    "# Build the scatter plots for each city types\n",
    "plt.scatter(rural_ride_per_city, rural_avgfare_per_city, marker=\"o\", facecolors=type_colors[\"Rural\"], edgecolors=\"black\",\n",
    "            s=rural_drivers_by_city*10, alpha=.75, label=\"Rural\")\n",
    "plt.scatter(urban_ride_per_city, urban_avgfare_per_city, marker=\"o\", facecolors=type_colors[\"Urban\"], edgecolors=\"black\",\n",
    "            s=urban_drivers_by_city*10, alpha=.75, label=\"Urban\")\n",
    "plt.scatter(suburban_ride_per_city, suburban_avgfare_per_city, marker=\"o\", facecolors=type_colors[\"Suburban\"], edgecolors=\"black\",\n",
    "            s=suburban_drivers_by_city*10, alpha=.75, label=\"Suburban\")\n",
    "\n",
    "# Create a legend\n",
    "lgnd = plt.legend(title=\"City Types\", fontsize=8)\n",
    "# Change the marker size manually \n",
    "lgnd.legendHandles[0]._sizes = [30]\n",
    "lgnd.legendHandles[1]._sizes = [30]\n",
    "lgnd.legendHandles[2]._sizes = [30]\n",
    "\n",
    "# Incorporate the other graph properties\n",
    "plt.title(\"Pyber Ride Sharing Data (2016)\")\n",
    "plt.xlabel(\"Total Number of Ride (Per City)\")\n",
    "plt.ylabel(\"Average Fare ($)\")\n",
    "plt.grid(True)\n",
    "\n",
    "# Incorporate a text label regarding circle size\n",
    "plt.text(42,35,\"Note: \\nCircle size correlates with driver count per city.\", fontsize = 10)\n",
    "\n",
    "# Save Figure\n",
    "plt.savefig(\"total_rides_by_type_and_city.png\")\n",
    "plt.show()"
   ]
  },
  {
   "cell_type": "markdown",
   "metadata": {},
   "source": [
    "## Total Fares by City Type"
   ]
  },
  {
   "cell_type": "code",
   "execution_count": 469,
   "metadata": {},
   "outputs": [],
   "source": [
    "# Set the variables that will be used in all plots\n",
    "city_types = [\"Rural\", \"Suburban\", \"Urban\"]\n",
    "colors = [\"gold\", \"lightskyblue\", \"lightcoral\"]\n",
    "explode = [0, 0, 0.08]"
   ]
  },
  {
   "cell_type": "code",
   "execution_count": 470,
   "metadata": {},
   "outputs": [
    {
     "data": {
      "text/plain": [
       "type\n",
       "Rural        4327.93\n",
       "Suburban    19356.33\n",
       "Urban       39854.38\n",
       "Name: fare, dtype: float64"
      ]
     },
     "execution_count": 470,
     "metadata": {},
     "output_type": "execute_result"
    }
   ],
   "source": [
    "# Calculate Type Percents\n",
    "total_rides = groupby_type[\"fare\"].sum()\n",
    "total_rides"
   ]
  },
  {
   "cell_type": "code",
   "execution_count": 471,
   "metadata": {
    "scrolled": true
   },
   "outputs": [
    {
     "data": {
      "image/png": "[encoded data removed]",
      "text/plain": [
       "<Figure size 432x288 with 1 Axes>"
      ]
     },
     "metadata": {},
     "output_type": "display_data"
    },
    {
     "data": {
      "text/plain": [
       "<Figure size 432x288 with 0 Axes>"
      ]
     },
     "metadata": {},
     "output_type": "display_data"
    }
   ],
   "source": [
    "# Build Pie Chart\n",
    "plt.title(\"% of Total Fares by City Type\")\n",
    "plt.pie(total_rides, explode=explode, labels=city_types, colors=colors,\n",
    "        autopct=\"%1.1f%%\", shadow=True, startangle=160)\n",
    "plt.axis(\"equal\")\n",
    "plt.show()\n",
    "# Save Figure\n",
    "plt.savefig(\"total_fares_by_city_type.png\")\n",
    "plt.show()"
   ]
  },
  {
   "cell_type": "markdown",
   "metadata": {},
   "source": [
    "## Total Rides by City Type"
   ]
  },
  {
   "cell_type": "code",
   "execution_count": 472,
   "metadata": {},
   "outputs": [
    {
     "data": {
      "text/plain": [
       "type\n",
       "Rural        125\n",
       "Suburban     625\n",
       "Urban       1625\n",
       "Name: ride_id, dtype: int64"
      ]
     },
     "execution_count": 472,
     "metadata": {},
     "output_type": "execute_result"
    }
   ],
   "source": [
    "# Calculate Ride Percents\n",
    "total_ride_count = groupby_type[\"ride_id\"].count()\n",
    "total_ride_count"
   ]
  },
  {
   "cell_type": "code",
   "execution_count": 473,
   "metadata": {},
   "outputs": [
    {
     "data": {
      "image/png": "[encoded data removed]",
      "text/plain": [
       "<Figure size 432x288 with 1 Axes>"
      ]
     },
     "metadata": {},
     "output_type": "display_data"
    },
    {
     "data": {
      "text/plain": [
       "<Figure size 432x288 with 0 Axes>"
      ]
     },
     "metadata": {},
     "output_type": "display_data"
    }
   ],
   "source": [
    "# Build Pie Chart\n",
    "plt.title(\"% of Total Rides by City Type\")\n",
    "plt.pie(total_ride_count, explode=explode, labels=city_types, colors=colors,\n",
    "        autopct=\"%1.1f%%\", shadow=True, startangle=160)\n",
    "plt.axis(\"equal\")\n",
    "plt.show()\n",
    "# Save Figure\n",
    "plt.savefig(\"total_ride_count_by_city_type.png\")\n",
    "plt.show()"
   ]
  },
  {
   "cell_type": "markdown",
   "metadata": {},
   "source": [
    "## Total Drivers by City Type"
   ]
  },
  {
   "cell_type": "code",
   "execution_count": 474,
   "metadata": {},
   "outputs": [
    {
     "data": {
      "text/html": [
       "<div>\n",
       "<style scoped>\n",
       "    .dataframe tbody tr th:only-of-type {\n",
       "        vertical-align: middle;\n",
       "    }\n",
       "\n",
       "    .dataframe tbody tr th {\n",
       "        vertical-align: top;\n",
       "    }\n",
       "\n",
       "    .dataframe thead th {\n",
       "        text-align: right;\n",
       "    }\n",
       "</style>\n",
       "<table border=\"1\" class=\"dataframe\">\n",
       "  <thead>\n",
       "    <tr style=\"text-align: right;\">\n",
       "      <th></th>\n",
       "      <th>driver_count</th>\n",
       "    </tr>\n",
       "    <tr>\n",
       "      <th>type</th>\n",
       "      <th></th>\n",
       "    </tr>\n",
       "  </thead>\n",
       "  <tbody>\n",
       "    <tr>\n",
       "      <th>Rural</th>\n",
       "      <td>78</td>\n",
       "    </tr>\n",
       "    <tr>\n",
       "      <th>Suburban</th>\n",
       "      <td>490</td>\n",
       "    </tr>\n",
       "    <tr>\n",
       "      <th>Urban</th>\n",
       "      <td>2405</td>\n",
       "    </tr>\n",
       "  </tbody>\n",
       "</table>\n",
       "</div>"
      ],
      "text/plain": [
       "          driver_count\n",
       "type                  \n",
       "Rural               78\n",
       "Suburban           490\n",
       "Urban             2405"
      ]
     },
     "execution_count": 474,
     "metadata": {},
     "output_type": "execute_result"
    }
   ],
   "source": [
    "# Calculate Driver Percents\n",
    "grouped_city = city_df.groupby([\"type\"]).sum()\n",
    "grouped_city"
   ]
  },
  {
   "cell_type": "code",
   "execution_count": 475,
   "metadata": {},
   "outputs": [
    {
     "data": {
      "image/png": "[encoded data removed]",
      "text/plain": [
       "<Figure size 432x288 with 1 Axes>"
      ]
     },
     "metadata": {},
     "output_type": "display_data"
    },
    {
     "data": {
      "text/plain": [
       "<Figure size 432x288 with 0 Axes>"
      ]
     },
     "metadata": {},
     "output_type": "display_data"
    }
   ],
   "source": [
    "# Build Pie Charts\n",
    "plt.title(\"% of Total Drivers by City Type\")\n",
    "plt.pie(grouped_city, explode=explode, labels=city_types, colors=colors,\n",
    "        autopct=\"%1.1f%%\", shadow=True, startangle=160)\n",
    "plt.axis(\"equal\")\n",
    "plt.show()\n",
    "# Save Figure\n",
    "plt.savefig(\"total_ride_count_by_city_type.png\")\n",
    "plt.show()"
   ]
  }
 ],
 "metadata": {
  "anaconda-cloud": {},
  "kernelspec": {
   "display_name": "Python 3",
   "language": "python",
   "name": "python3"
  },
  "language_info": {
   "codemirror_mode": {
    "name": "ipython",
    "version": 3
   },
   "file_extension": ".py",
   "mimetype": "text/x-python",
   "name": "python",
   "nbconvert_exporter": "python",
   "pygments_lexer": "ipython3",
   "version": "3.6.7"
  }
 },
 "nbformat": 4,
 "nbformat_minor": 2
}
